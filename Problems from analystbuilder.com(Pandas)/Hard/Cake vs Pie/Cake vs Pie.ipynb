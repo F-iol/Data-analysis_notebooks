{
 "cells": [
  {
   "cell_type": "code",
   "execution_count": 160,
   "id": "d7959b87",
   "metadata": {},
   "outputs": [],
   "source": [
    "import pandas as pd\n",
    "import numpy as np"
   ]
  },
  {
   "cell_type": "code",
   "execution_count": 161,
   "id": "2c15095b",
   "metadata": {},
   "outputs": [],
   "source": [
    "df = pd.read_csv('desserts.txt',sep='\\t')\n"
   ]
  },
  {
   "cell_type": "code",
   "execution_count": 162,
   "id": "aee28eb7",
   "metadata": {},
   "outputs": [],
   "source": [
    "df=df.sort_values(['date_sold','product'])\n",
    "df['shift']=df.groupby('date_sold')['amount_sold'].transform('shift')"
   ]
  },
  {
   "cell_type": "code",
   "execution_count": 163,
   "id": "f8e96ece",
   "metadata": {},
   "outputs": [],
   "source": [
    "df['winner']=np.where(df['amount_sold']>df['shift'],\"Pie\",'Cake')\n",
    "df=df.dropna(subset=['shift'])\n",
    "df=df.drop(columns=['product'])"
   ]
  },
  {
   "cell_type": "code",
   "execution_count": 165,
   "id": "8b39ae6c",
   "metadata": {},
   "outputs": [],
   "source": [
    "df=df.fillna(0)\n",
    "df['difference'] = abs(df['amount_sold'] - df['shift'])\n",
    "result = df[['date_sold','difference','winner']]\n"
   ]
  },
  {
   "cell_type": "code",
   "execution_count": 166,
   "id": "fa4fca51",
   "metadata": {},
   "outputs": [
    {
     "data": {
      "text/html": [
       "<div>\n",
       "<style scoped>\n",
       "    .dataframe tbody tr th:only-of-type {\n",
       "        vertical-align: middle;\n",
       "    }\n",
       "\n",
       "    .dataframe tbody tr th {\n",
       "        vertical-align: top;\n",
       "    }\n",
       "\n",
       "    .dataframe thead th {\n",
       "        text-align: right;\n",
       "    }\n",
       "</style>\n",
       "<table border=\"1\" class=\"dataframe\">\n",
       "  <thead>\n",
       "    <tr style=\"text-align: right;\">\n",
       "      <th></th>\n",
       "      <th>date_sold</th>\n",
       "      <th>difference</th>\n",
       "      <th>winner</th>\n",
       "    </tr>\n",
       "  </thead>\n",
       "  <tbody>\n",
       "    <tr>\n",
       "      <th>1</th>\n",
       "      <td>6/1/2022</td>\n",
       "      <td>12.0</td>\n",
       "      <td>Pie</td>\n",
       "    </tr>\n",
       "    <tr>\n",
       "      <th>2</th>\n",
       "      <td>6/2/2022</td>\n",
       "      <td>1.0</td>\n",
       "      <td>Pie</td>\n",
       "    </tr>\n",
       "    <tr>\n",
       "      <th>4</th>\n",
       "      <td>6/3/2022</td>\n",
       "      <td>1.0</td>\n",
       "      <td>Cake</td>\n",
       "    </tr>\n",
       "    <tr>\n",
       "      <th>6</th>\n",
       "      <td>6/4/2022</td>\n",
       "      <td>9.0</td>\n",
       "      <td>Pie</td>\n",
       "    </tr>\n",
       "    <tr>\n",
       "      <th>9</th>\n",
       "      <td>6/5/2022</td>\n",
       "      <td>16.0</td>\n",
       "      <td>Cake</td>\n",
       "    </tr>\n",
       "  </tbody>\n",
       "</table>\n",
       "</div>"
      ],
      "text/plain": [
       "  date_sold  difference winner\n",
       "1  6/1/2022        12.0    Pie\n",
       "2  6/2/2022         1.0    Pie\n",
       "4  6/3/2022         1.0   Cake\n",
       "6  6/4/2022         9.0    Pie\n",
       "9  6/5/2022        16.0   Cake"
      ]
     },
     "execution_count": 166,
     "metadata": {},
     "output_type": "execute_result"
    }
   ],
   "source": [
    "result"
   ]
  }
 ],
 "metadata": {
  "kernelspec": {
   "display_name": "Python 3",
   "language": "python",
   "name": "python3"
  },
  "language_info": {
   "codemirror_mode": {
    "name": "ipython",
    "version": 3
   },
   "file_extension": ".py",
   "mimetype": "text/x-python",
   "name": "python",
   "nbconvert_exporter": "python",
   "pygments_lexer": "ipython3",
   "version": "3.13.3"
  }
 },
 "nbformat": 4,
 "nbformat_minor": 5
}
