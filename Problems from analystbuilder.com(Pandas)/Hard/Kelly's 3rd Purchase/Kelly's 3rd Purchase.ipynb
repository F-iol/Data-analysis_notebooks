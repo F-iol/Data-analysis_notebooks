{
 "cells": [
  {
   "cell_type": "code",
   "execution_count": 125,
   "id": "a610118a",
   "metadata": {},
   "outputs": [],
   "source": [
    "import pandas as pd\n",
    "import numpy as np"
   ]
  },
  {
   "cell_type": "code",
   "execution_count": 126,
   "id": "b2daf20f",
   "metadata": {},
   "outputs": [],
   "source": [
    "df = pd.read_csv('purchases.txt',sep='\\t')"
   ]
  },
  {
   "cell_type": "code",
   "execution_count": 127,
   "id": "5d5a11dc",
   "metadata": {},
   "outputs": [],
   "source": [
    "df=df.sort_values(['customer_id','transaction_id'],ascending=True)"
   ]
  },
  {
   "cell_type": "code",
   "execution_count": 128,
   "id": "d5f55f46",
   "metadata": {},
   "outputs": [],
   "source": [
    "df['n_purchase']=df.groupby('customer_id')['transaction_id'].transform('rank')"
   ]
  },
  {
   "cell_type": "code",
   "execution_count": 129,
   "id": "2c140b72",
   "metadata": {},
   "outputs": [],
   "source": [
    "df['discounted_pirce']=np.where(df['n_purchase']==3,df['amount']*0.67,np.nan)"
   ]
  },
  {
   "cell_type": "code",
   "execution_count": 130,
   "id": "499b0c80",
   "metadata": {},
   "outputs": [],
   "source": [
    "result=df[df['discounted_pirce'].notnull()][['customer_id','transaction_id','amount','discounted_pirce']]"
   ]
  },
  {
   "cell_type": "code",
   "execution_count": 132,
   "id": "7c64d11c",
   "metadata": {},
   "outputs": [
    {
     "data": {
      "text/html": [
       "<div>\n",
       "<style scoped>\n",
       "    .dataframe tbody tr th:only-of-type {\n",
       "        vertical-align: middle;\n",
       "    }\n",
       "\n",
       "    .dataframe tbody tr th {\n",
       "        vertical-align: top;\n",
       "    }\n",
       "\n",
       "    .dataframe thead th {\n",
       "        text-align: right;\n",
       "    }\n",
       "</style>\n",
       "<table border=\"1\" class=\"dataframe\">\n",
       "  <thead>\n",
       "    <tr style=\"text-align: right;\">\n",
       "      <th></th>\n",
       "      <th>customer_id</th>\n",
       "      <th>transaction_id</th>\n",
       "      <th>amount</th>\n",
       "      <th>discounted_pirce</th>\n",
       "    </tr>\n",
       "  </thead>\n",
       "  <tbody>\n",
       "    <tr>\n",
       "      <th>10</th>\n",
       "      <td>1001</td>\n",
       "      <td>374711</td>\n",
       "      <td>94</td>\n",
       "      <td>62.98</td>\n",
       "    </tr>\n",
       "    <tr>\n",
       "      <th>15</th>\n",
       "      <td>1002</td>\n",
       "      <td>415562</td>\n",
       "      <td>50</td>\n",
       "      <td>33.50</td>\n",
       "    </tr>\n",
       "    <tr>\n",
       "      <th>20</th>\n",
       "      <td>1003</td>\n",
       "      <td>102487</td>\n",
       "      <td>39</td>\n",
       "      <td>26.13</td>\n",
       "    </tr>\n",
       "    <tr>\n",
       "      <th>5</th>\n",
       "      <td>1004</td>\n",
       "      <td>528902</td>\n",
       "      <td>78</td>\n",
       "      <td>52.26</td>\n",
       "    </tr>\n",
       "    <tr>\n",
       "      <th>8</th>\n",
       "      <td>1005</td>\n",
       "      <td>500607</td>\n",
       "      <td>98</td>\n",
       "      <td>65.66</td>\n",
       "    </tr>\n",
       "  </tbody>\n",
       "</table>\n",
       "</div>"
      ],
      "text/plain": [
       "    customer_id  transaction_id  amount  discounted_pirce\n",
       "10         1001          374711      94             62.98\n",
       "15         1002          415562      50             33.50\n",
       "20         1003          102487      39             26.13\n",
       "5          1004          528902      78             52.26\n",
       "8          1005          500607      98             65.66"
      ]
     },
     "execution_count": 132,
     "metadata": {},
     "output_type": "execute_result"
    }
   ],
   "source": [
    "result"
   ]
  }
 ],
 "metadata": {
  "kernelspec": {
   "display_name": "Python 3",
   "language": "python",
   "name": "python3"
  },
  "language_info": {
   "codemirror_mode": {
    "name": "ipython",
    "version": 3
   },
   "file_extension": ".py",
   "mimetype": "text/x-python",
   "name": "python",
   "nbconvert_exporter": "python",
   "pygments_lexer": "ipython3",
   "version": "3.13.3"
  }
 },
 "nbformat": 4,
 "nbformat_minor": 5
}
