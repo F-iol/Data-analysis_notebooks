{
 "cells": [
  {
   "cell_type": "code",
   "execution_count": 45,
   "id": "b690566a",
   "metadata": {},
   "outputs": [],
   "source": [
    "import pandas as pd\n",
    "import numpy as np"
   ]
  },
  {
   "cell_type": "code",
   "execution_count": 46,
   "id": "19cb4479",
   "metadata": {},
   "outputs": [],
   "source": [
    "df = pd.read_csv('customers.txt',sep='\\t')\n",
    "df['birth_date']= pd.to_datetime(df['birth_date'])\n",
    "Timestamp=pd.Timestamp('2023/1/1')"
   ]
  },
  {
   "cell_type": "code",
   "execution_count": 47,
   "id": "9fdc17ef",
   "metadata": {},
   "outputs": [],
   "source": [
    "df['n_years_old']= Timestamp.year-df['birth_date'].dt.year\n",
    "birthday = (Timestamp.month>df['birth_date'].dt.month) | ((Timestamp.month == df['birth_date'].dt.month) & (Timestamp.day>=df['birth_date'].dt.day))"
   ]
  },
  {
   "cell_type": "code",
   "execution_count": 48,
   "id": "99551e69",
   "metadata": {},
   "outputs": [],
   "source": [
    "df['n_years_old'] = np.where(birthday, df['n_years_old'], df['n_years_old']-1)\n",
    "results = df[df['n_years_old']>=55].sort_values('customer_id')\n"
   ]
  },
  {
   "cell_type": "code",
   "execution_count": 49,
   "id": "6783f0df",
   "metadata": {},
   "outputs": [
    {
     "data": {
      "text/html": [
       "<div>\n",
       "<style scoped>\n",
       "    .dataframe tbody tr th:only-of-type {\n",
       "        vertical-align: middle;\n",
       "    }\n",
       "\n",
       "    .dataframe tbody tr th {\n",
       "        vertical-align: top;\n",
       "    }\n",
       "\n",
       "    .dataframe thead th {\n",
       "        text-align: right;\n",
       "    }\n",
       "</style>\n",
       "<table border=\"1\" class=\"dataframe\">\n",
       "  <thead>\n",
       "    <tr style=\"text-align: right;\">\n",
       "      <th></th>\n",
       "      <th>customer_id</th>\n",
       "      <th>birth_date</th>\n",
       "      <th>n_years_old</th>\n",
       "    </tr>\n",
       "  </thead>\n",
       "  <tbody>\n",
       "    <tr>\n",
       "      <th>6</th>\n",
       "      <td>PLM3202827</td>\n",
       "      <td>1941-06-18</td>\n",
       "      <td>81</td>\n",
       "    </tr>\n",
       "    <tr>\n",
       "      <th>4</th>\n",
       "      <td>RHY0461182</td>\n",
       "      <td>1951-09-07</td>\n",
       "      <td>71</td>\n",
       "    </tr>\n",
       "    <tr>\n",
       "      <th>5</th>\n",
       "      <td>UJL8594627</td>\n",
       "      <td>1957-10-10</td>\n",
       "      <td>65</td>\n",
       "    </tr>\n",
       "    <tr>\n",
       "      <th>13</th>\n",
       "      <td>VNX4490181</td>\n",
       "      <td>1952-02-14</td>\n",
       "      <td>70</td>\n",
       "    </tr>\n",
       "    <tr>\n",
       "      <th>8</th>\n",
       "      <td>WIC7447772</td>\n",
       "      <td>1942-12-14</td>\n",
       "      <td>80</td>\n",
       "    </tr>\n",
       "    <tr>\n",
       "      <th>1</th>\n",
       "      <td>XBJ9334631</td>\n",
       "      <td>1964-06-12</td>\n",
       "      <td>58</td>\n",
       "    </tr>\n",
       "  </tbody>\n",
       "</table>\n",
       "</div>"
      ],
      "text/plain": [
       "   customer_id birth_date  n_years_old\n",
       "6   PLM3202827 1941-06-18           81\n",
       "4   RHY0461182 1951-09-07           71\n",
       "5   UJL8594627 1957-10-10           65\n",
       "13  VNX4490181 1952-02-14           70\n",
       "8   WIC7447772 1942-12-14           80\n",
       "1   XBJ9334631 1964-06-12           58"
      ]
     },
     "execution_count": 49,
     "metadata": {},
     "output_type": "execute_result"
    }
   ],
   "source": [
    "results"
   ]
  }
 ],
 "metadata": {
  "kernelspec": {
   "display_name": "Python 3",
   "language": "python",
   "name": "python3"
  },
  "language_info": {
   "codemirror_mode": {
    "name": "ipython",
    "version": 3
   },
   "file_extension": ".py",
   "mimetype": "text/x-python",
   "name": "python",
   "nbconvert_exporter": "python",
   "pygments_lexer": "ipython3",
   "version": "3.13.3"
  }
 },
 "nbformat": 4,
 "nbformat_minor": 5
}
