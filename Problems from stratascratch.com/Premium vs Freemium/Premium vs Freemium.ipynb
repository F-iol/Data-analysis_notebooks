{
 "cells": [
  {
   "cell_type": "code",
   "execution_count": 156,
   "id": "4152a393",
   "metadata": {},
   "outputs": [],
   "source": [
    "import pandas as pd"
   ]
  },
  {
   "cell_type": "code",
   "execution_count": 157,
   "id": "b67b032e",
   "metadata": {},
   "outputs": [],
   "source": [
    "df=pd.read_csv('ms_acc_dimension.tsxt',sep='\\t')\n",
    "df1=pd.read_csv('ms_download_facts.txt',sep='\\t')\n",
    "df2=pd.read_csv('ms_user_dimension.txt',sep='\\t')"
   ]
  },
  {
   "cell_type": "code",
   "execution_count": 158,
   "id": "4b9c8611",
   "metadata": {},
   "outputs": [],
   "source": [
    "merged_df = df1.merge(df2, on='user_id')\n",
    "merged_df=merged_df.merge(df, on='acc_id')"
   ]
  },
  {
   "cell_type": "code",
   "execution_count": 159,
   "id": "ee5207dc",
   "metadata": {},
   "outputs": [],
   "source": [
    "merged_df['paid']=merged_df['downloads']\n",
    "merged_df['unpaid']=merged_df['downloads']\n",
    "\n",
    "merged_df.loc[merged_df['paying_customer']=='no','paid']=0\n",
    "merged_df.loc[merged_df['paying_customer']=='yes','unpaid']=0"
   ]
  },
  {
   "cell_type": "code",
   "execution_count": 160,
   "id": "0b57ae60",
   "metadata": {},
   "outputs": [],
   "source": [
    "merged_df=merged_df.groupby(['date'])[['unpaid','paid']].sum().reset_index()"
   ]
  },
  {
   "cell_type": "code",
   "execution_count": 162,
   "id": "df4a1147",
   "metadata": {},
   "outputs": [
    {
     "data": {
      "text/html": [
       "<div>\n",
       "<style scoped>\n",
       "    .dataframe tbody tr th:only-of-type {\n",
       "        vertical-align: middle;\n",
       "    }\n",
       "\n",
       "    .dataframe tbody tr th {\n",
       "        vertical-align: top;\n",
       "    }\n",
       "\n",
       "    .dataframe thead th {\n",
       "        text-align: right;\n",
       "    }\n",
       "</style>\n",
       "<table border=\"1\" class=\"dataframe\">\n",
       "  <thead>\n",
       "    <tr style=\"text-align: right;\">\n",
       "      <th></th>\n",
       "      <th>date</th>\n",
       "      <th>unpaid</th>\n",
       "      <th>paid</th>\n",
       "    </tr>\n",
       "  </thead>\n",
       "  <tbody>\n",
       "    <tr>\n",
       "      <th>1</th>\n",
       "      <td>2020-08-16</td>\n",
       "      <td>15</td>\n",
       "      <td>14</td>\n",
       "    </tr>\n",
       "    <tr>\n",
       "      <th>2</th>\n",
       "      <td>2020-08-17</td>\n",
       "      <td>45</td>\n",
       "      <td>9</td>\n",
       "    </tr>\n",
       "    <tr>\n",
       "      <th>3</th>\n",
       "      <td>2020-08-18</td>\n",
       "      <td>10</td>\n",
       "      <td>7</td>\n",
       "    </tr>\n",
       "    <tr>\n",
       "      <th>6</th>\n",
       "      <td>2020-08-21</td>\n",
       "      <td>32</td>\n",
       "      <td>17</td>\n",
       "    </tr>\n",
       "  </tbody>\n",
       "</table>\n",
       "</div>"
      ],
      "text/plain": [
       "         date  unpaid  paid\n",
       "1  2020-08-16      15    14\n",
       "2  2020-08-17      45     9\n",
       "3  2020-08-18      10     7\n",
       "6  2020-08-21      32    17"
      ]
     },
     "execution_count": 162,
     "metadata": {},
     "output_type": "execute_result"
    }
   ],
   "source": [
    "filtered_sorted_df = merged_df[merged_df['unpaid'] > merged_df['paid']].sort_values('date')\n",
    "filtered_sorted_df"
   ]
  },
  {
   "cell_type": "markdown",
   "id": "539b3172",
   "metadata": {},
   "source": []
  },
  {
   "cell_type": "code",
   "execution_count": null,
   "id": "ef61a7c8",
   "metadata": {},
   "outputs": [],
   "source": []
  }
 ],
 "metadata": {
  "kernelspec": {
   "display_name": "Python 3",
   "language": "python",
   "name": "python3"
  },
  "language_info": {
   "codemirror_mode": {
    "name": "ipython",
    "version": 3
   },
   "file_extension": ".py",
   "mimetype": "text/x-python",
   "name": "python",
   "nbconvert_exporter": "python",
   "pygments_lexer": "ipython3",
   "version": "3.13.3"
  }
 },
 "nbformat": 4,
 "nbformat_minor": 5
}
