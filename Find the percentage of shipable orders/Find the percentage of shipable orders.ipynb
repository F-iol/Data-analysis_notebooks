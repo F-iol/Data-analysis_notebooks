{
 "cells": [
  {
   "cell_type": "code",
   "execution_count": 65,
   "id": "c20d9f9d",
   "metadata": {},
   "outputs": [],
   "source": [
    "import pandas as pd"
   ]
  },
  {
   "cell_type": "code",
   "execution_count": 66,
   "id": "566a0f5f",
   "metadata": {},
   "outputs": [],
   "source": [
    "customers = pd.read_csv('customers.txt',sep='\\t')\n",
    "orders=pd.read_csv('orders.txt',sep='\\t')"
   ]
  },
  {
   "cell_type": "code",
   "execution_count": 67,
   "id": "bc747321",
   "metadata": {},
   "outputs": [],
   "source": [
    "merged=orders.merge(customers,how='inner',left_on='cust_id',right_on='id')"
   ]
  },
  {
   "cell_type": "code",
   "execution_count": 68,
   "id": "bd599ad6",
   "metadata": {},
   "outputs": [],
   "source": [
    "results=(merged['address'].notnull().mean() *100)"
   ]
  },
  {
   "cell_type": "code",
   "execution_count": 69,
   "id": "39bc3f33",
   "metadata": {},
   "outputs": [
    {
     "data": {
      "text/plain": [
       "np.float64(28.000000000000004)"
      ]
     },
     "execution_count": 69,
     "metadata": {},
     "output_type": "execute_result"
    }
   ],
   "source": [
    "results"
   ]
  },
  {
   "cell_type": "code",
   "execution_count": null,
   "id": "b548d0b2",
   "metadata": {},
   "outputs": [],
   "source": []
  }
 ],
 "metadata": {
  "kernelspec": {
   "display_name": "Python 3",
   "language": "python",
   "name": "python3"
  },
  "language_info": {
   "codemirror_mode": {
    "name": "ipython",
    "version": 3
   },
   "file_extension": ".py",
   "mimetype": "text/x-python",
   "name": "python",
   "nbconvert_exporter": "python",
   "pygments_lexer": "ipython3",
   "version": "3.13.3"
  }
 },
 "nbformat": 4,
 "nbformat_minor": 5
}
