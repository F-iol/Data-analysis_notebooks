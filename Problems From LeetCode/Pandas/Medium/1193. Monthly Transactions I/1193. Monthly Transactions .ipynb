{
 "cells": [
  {
   "cell_type": "code",
   "execution_count": 147,
   "id": "f71168f5",
   "metadata": {},
   "outputs": [],
   "source": [
    "import pandas as pd"
   ]
  },
  {
   "cell_type": "code",
   "execution_count": 148,
   "id": "4fe71281",
   "metadata": {},
   "outputs": [],
   "source": [
    "data = [[121, 'US', 'approved', 1000, '2018-12-18'], [122, 'US', 'declined', 2000, '2018-12-19'], [123, 'US', 'approved', 2000, '2019-01-01'], [124, 'DE', 'approved', 2000, '2019-01-07']]\n",
    "transactions = pd.DataFrame(data, columns=['id', 'country', 'state', 'amount', 'trans_date']).astype({'id':'Int64', 'country':'object', 'state':'object', 'amount':'Int64', 'trans_date':'datetime64[ns]'})"
   ]
  },
  {
   "cell_type": "code",
   "execution_count": 149,
   "id": "e4187432",
   "metadata": {},
   "outputs": [],
   "source": [
    "transactions['trans_date']=pd.to_datetime(transactions['trans_date'])\n",
    "transactions['trans_date']=transactions['trans_date'].dt.strftime('%Y-%m')"
   ]
  },
  {
   "cell_type": "code",
   "execution_count": null,
   "id": "a89d716a",
   "metadata": {},
   "outputs": [],
   "source": [
    "transactions['total_amount']=transactions.groupby(['country','trans_date'])['amount'].transform('sum')\n",
    "transactions['trans_count']= transactions.groupby(['country','trans_date'])['state'].transform('count')\n",
    "transactions['approved_count']=transactions['state'].str.replace('approved','1').replace('declined','0')\n",
    "approved=transactions[transactions['state']=='approved']\n",
    "approved=approved.copy()\n",
    "approved.rename(columns={'amount':'accepted_amount'},inplace=True)\n",
    "results=approved[['trans_date','country','trans_count','approved_count','total_amount','accepted_amount']]"
   ]
  },
  {
   "cell_type": "code",
   "execution_count": 151,
   "id": "c614ee8a",
   "metadata": {},
   "outputs": [
    {
     "data": {
      "text/html": [
       "<div>\n",
       "<style scoped>\n",
       "    .dataframe tbody tr th:only-of-type {\n",
       "        vertical-align: middle;\n",
       "    }\n",
       "\n",
       "    .dataframe tbody tr th {\n",
       "        vertical-align: top;\n",
       "    }\n",
       "\n",
       "    .dataframe thead th {\n",
       "        text-align: right;\n",
       "    }\n",
       "</style>\n",
       "<table border=\"1\" class=\"dataframe\">\n",
       "  <thead>\n",
       "    <tr style=\"text-align: right;\">\n",
       "      <th></th>\n",
       "      <th>trans_date</th>\n",
       "      <th>country</th>\n",
       "      <th>trans_count</th>\n",
       "      <th>approved_count</th>\n",
       "      <th>total_amount</th>\n",
       "      <th>accepted_amount</th>\n",
       "    </tr>\n",
       "  </thead>\n",
       "  <tbody>\n",
       "    <tr>\n",
       "      <th>0</th>\n",
       "      <td>2018-12</td>\n",
       "      <td>US</td>\n",
       "      <td>2</td>\n",
       "      <td>1</td>\n",
       "      <td>3000</td>\n",
       "      <td>1000</td>\n",
       "    </tr>\n",
       "    <tr>\n",
       "      <th>2</th>\n",
       "      <td>2019-01</td>\n",
       "      <td>US</td>\n",
       "      <td>1</td>\n",
       "      <td>1</td>\n",
       "      <td>2000</td>\n",
       "      <td>2000</td>\n",
       "    </tr>\n",
       "    <tr>\n",
       "      <th>3</th>\n",
       "      <td>2019-01</td>\n",
       "      <td>DE</td>\n",
       "      <td>1</td>\n",
       "      <td>1</td>\n",
       "      <td>2000</td>\n",
       "      <td>2000</td>\n",
       "    </tr>\n",
       "  </tbody>\n",
       "</table>\n",
       "</div>"
      ],
      "text/plain": [
       "  trans_date country  trans_count  approved_count  total_amount  \\\n",
       "0    2018-12      US            2               1          3000   \n",
       "2    2019-01      US            1               1          2000   \n",
       "3    2019-01      DE            1               1          2000   \n",
       "\n",
       "   accepted_amount  \n",
       "0             1000  \n",
       "2             2000  \n",
       "3             2000  "
      ]
     },
     "execution_count": 151,
     "metadata": {},
     "output_type": "execute_result"
    }
   ],
   "source": [
    "results"
   ]
  }
 ],
 "metadata": {
  "kernelspec": {
   "display_name": "Python 3",
   "language": "python",
   "name": "python3"
  },
  "language_info": {
   "codemirror_mode": {
    "name": "ipython",
    "version": 3
   },
   "file_extension": ".py",
   "mimetype": "text/x-python",
   "name": "python",
   "nbconvert_exporter": "python",
   "pygments_lexer": "ipython3",
   "version": "3.10.11"
  }
 },
 "nbformat": 4,
 "nbformat_minor": 5
}
