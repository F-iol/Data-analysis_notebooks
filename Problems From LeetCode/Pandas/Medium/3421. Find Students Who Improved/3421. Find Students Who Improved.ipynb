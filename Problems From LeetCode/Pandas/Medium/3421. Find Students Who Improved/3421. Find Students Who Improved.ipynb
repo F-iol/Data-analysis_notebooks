{
 "cells": [
  {
   "cell_type": "code",
   "execution_count": 417,
   "id": "bffbbf6d",
   "metadata": {},
   "outputs": [],
   "source": [
    "import pandas as pd"
   ]
  },
  {
   "cell_type": "code",
   "execution_count": 418,
   "id": "bc51eb47",
   "metadata": {},
   "outputs": [],
   "source": [
    "data = [[101, 'Math', 70, '2023-01-15'], [101, 'Math', 85, '2023-02-15'], [101, 'Physics', 65, '2023-01-15'], [101, 'Physics', 60, '2023-02-15'], [102, 'Math', 80, '2023-01-15'], [102, 'Math', 85, '2023-02-15'], [103, 'Math', 90, '2023-01-15'], [104, 'Physics', 75, '2023-01-15'], [104, 'Physics', 85, '2023-02-15']]\n",
    "scores = pd.DataFrame(data,columns={\"student_id\": pd.Series(dtype=\"int\"),\n",
    "                          \"subject\": pd.Series(dtype=\"str\"),\n",
    "                          \"score\": pd.Series(dtype=\"int\"),\n",
    "                          \"exam_date\": pd.Series(dtype=\"str\")})"
   ]
  },
  {
   "cell_type": "code",
   "execution_count": 419,
   "id": "5075e47f",
   "metadata": {},
   "outputs": [],
   "source": [
    "scores = scores.sort_values(['student_id','subject','exam_date'])\n",
    "scores['attempt'] = scores.groupby(['student_id','subject']).cumcount() + 1"
   ]
  },
  {
   "cell_type": "code",
   "execution_count": 420,
   "id": "16537e48",
   "metadata": {},
   "outputs": [],
   "source": [
    "pivot = scores.pivot_table(\n",
    "    index = ['student_id','subject'],\n",
    "    columns=['attempt'],\n",
    "    values='score'\n",
    ").reset_index()\n",
    "pivot.columns.name = None"
   ]
  },
  {
   "cell_type": "code",
   "execution_count": 421,
   "id": "dc576478",
   "metadata": {},
   "outputs": [
    {
     "data": {
      "text/html": [
       "<div>\n",
       "<style scoped>\n",
       "    .dataframe tbody tr th:only-of-type {\n",
       "        vertical-align: middle;\n",
       "    }\n",
       "\n",
       "    .dataframe tbody tr th {\n",
       "        vertical-align: top;\n",
       "    }\n",
       "\n",
       "    .dataframe thead th {\n",
       "        text-align: right;\n",
       "    }\n",
       "</style>\n",
       "<table border=\"1\" class=\"dataframe\">\n",
       "  <thead>\n",
       "    <tr style=\"text-align: right;\">\n",
       "      <th></th>\n",
       "      <th>student_id</th>\n",
       "      <th>subject</th>\n",
       "      <th>1</th>\n",
       "      <th>2</th>\n",
       "    </tr>\n",
       "  </thead>\n",
       "  <tbody>\n",
       "    <tr>\n",
       "      <th>0</th>\n",
       "      <td>101</td>\n",
       "      <td>Math</td>\n",
       "      <td>70.0</td>\n",
       "      <td>85.0</td>\n",
       "    </tr>\n",
       "    <tr>\n",
       "      <th>2</th>\n",
       "      <td>102</td>\n",
       "      <td>Math</td>\n",
       "      <td>80.0</td>\n",
       "      <td>85.0</td>\n",
       "    </tr>\n",
       "    <tr>\n",
       "      <th>4</th>\n",
       "      <td>104</td>\n",
       "      <td>Physics</td>\n",
       "      <td>75.0</td>\n",
       "      <td>85.0</td>\n",
       "    </tr>\n",
       "  </tbody>\n",
       "</table>\n",
       "</div>"
      ],
      "text/plain": [
       "   student_id  subject     1     2\n",
       "0         101     Math  70.0  85.0\n",
       "2         102     Math  80.0  85.0\n",
       "4         104  Physics  75.0  85.0"
      ]
     },
     "execution_count": 421,
     "metadata": {},
     "output_type": "execute_result"
    }
   ],
   "source": [
    "pivot = pivot[pivot[2]>pivot[1]]\n",
    "pivot"
   ]
  }
 ],
 "metadata": {
  "kernelspec": {
   "display_name": "Python 3",
   "language": "python",
   "name": "python3"
  },
  "language_info": {
   "codemirror_mode": {
    "name": "ipython",
    "version": 3
   },
   "file_extension": ".py",
   "mimetype": "text/x-python",
   "name": "python",
   "nbconvert_exporter": "python",
   "pygments_lexer": "ipython3",
   "version": "3.13.3"
  }
 },
 "nbformat": 4,
 "nbformat_minor": 5
}
