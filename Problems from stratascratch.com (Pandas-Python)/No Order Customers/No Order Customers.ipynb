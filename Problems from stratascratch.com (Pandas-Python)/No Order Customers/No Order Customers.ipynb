{
 "cells": [
  {
   "cell_type": "code",
   "execution_count": 9,
   "id": "2804e364",
   "metadata": {},
   "outputs": [],
   "source": [
    "import pandas as pd"
   ]
  },
  {
   "cell_type": "code",
   "execution_count": 10,
   "metadata": {},
   "outputs": [],
   "source": [
    "customers = pd.read_csv('customers.txt',sep='\\t')\n",
    "orders = pd.read_csv('orders.txt',sep='\\t')"
   ]
  },
  {
   "cell_type": "code",
   "execution_count": 11,
   "id": "3b2db438",
   "metadata": {},
   "outputs": [],
   "source": [
    "df = pd.merge(customers,orders,left_on='id',right_on='cust_id',how='left')\n",
    "df['order_date']=pd.to_datetime(df['order_date'])"
   ]
  },
  {
   "cell_type": "code",
   "execution_count": 12,
   "id": "f9353299",
   "metadata": {},
   "outputs": [],
   "source": [
    "Not_customers = df[df['order_date'].between('2019-02-01','2019-03-01')]['cust_id'].unique()\n",
    "df=df[~df['cust_id'].isin(Not_customers)]"
   ]
  },
  {
   "cell_type": "code",
   "execution_count": 13,
   "id": "834a1e9c",
   "metadata": {},
   "outputs": [
    {
     "data": {
      "text/plain": [
       "0      John\n",
       "1      Emma\n",
       "2      Liam\n",
       "3      Mark\n",
       "4       Eva\n",
       "5      Jack\n",
       "6      Mona\n",
       "7      Lili\n",
       "8    Justin\n",
       "9     Frank\n",
       "Name: first_name, dtype: object"
      ]
     },
     "execution_count": 13,
     "metadata": {},
     "output_type": "execute_result"
    }
   ],
   "source": [
    "results=df['first_name'].drop_duplicates().reset_index(drop=True)\n",
    "results"
   ]
  }
 ],
 "metadata": {
  "kernelspec": {
   "display_name": "Python 3",
   "language": "python",
   "name": "python3"
  },
  "language_info": {
   "codemirror_mode": {
    "name": "ipython",
    "version": 3
   },
   "file_extension": ".py",
   "mimetype": "text/x-python",
   "name": "python",
   "nbconvert_exporter": "python",
   "pygments_lexer": "ipython3",
   "version": "3.10.11"
  }
 },
 "nbformat": 4,
 "nbformat_minor": 5
}
