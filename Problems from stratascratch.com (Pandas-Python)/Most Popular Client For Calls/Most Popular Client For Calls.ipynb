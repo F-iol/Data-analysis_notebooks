{
 "cells": [
  {
   "cell_type": "code",
   "execution_count": 29,
   "id": "f0105f9a",
   "metadata": {},
   "outputs": [],
   "source": [
    "import pandas as pd"
   ]
  },
  {
   "cell_type": "code",
   "execution_count": 30,
   "id": "7aa06ea4",
   "metadata": {},
   "outputs": [],
   "source": [
    "df = pd.read_csv('fact_events.txt',sep='\\t')\n",
    "events=['video call received', 'video call sent', 'voice call received', 'voice call sent']"
   ]
  },
  {
   "cell_type": "code",
   "execution_count": 31,
   "id": "3ac05c87",
   "metadata": {},
   "outputs": [],
   "source": [
    "important_users=df.groupby(['user_id','client_id'])['event_type'].nunique().reset_index()\n",
    "important_users=important_users[(important_users['event_type']/len(events))*100 >= 50]\n"
   ]
  },
  {
   "cell_type": "code",
   "execution_count": 32,
   "id": "20ecade0",
   "metadata": {},
   "outputs": [
    {
     "data": {
      "text/plain": [
       "client_id    desktop\n",
       "users             18\n",
       "Name: 0, dtype: object"
      ]
     },
     "execution_count": 32,
     "metadata": {},
     "output_type": "execute_result"
    }
   ],
   "source": [
    "results = important_users.groupby('client_id')['user_id'].nunique().reset_index().rename(columns={'user_id':'users'}).sort_values('users',ascending=False)\n",
    "results.iloc[0]"
   ]
  }
 ],
 "metadata": {
  "kernelspec": {
   "display_name": "Python 3",
   "language": "python",
   "name": "python3"
  },
  "language_info": {
   "codemirror_mode": {
    "name": "ipython",
    "version": 3
   },
   "file_extension": ".py",
   "mimetype": "text/x-python",
   "name": "python",
   "nbconvert_exporter": "python",
   "pygments_lexer": "ipython3",
   "version": "3.13.3"
  }
 },
 "nbformat": 4,
 "nbformat_minor": 5
}
