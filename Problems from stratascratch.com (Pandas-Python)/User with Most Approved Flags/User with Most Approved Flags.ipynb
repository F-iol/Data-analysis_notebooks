{
 "cells": [
  {
   "cell_type": "code",
   "execution_count": 1,
   "id": "98538519",
   "metadata": {},
   "outputs": [],
   "source": [
    "import pandas as pd"
   ]
  },
  {
   "cell_type": "code",
   "execution_count": 3,
   "id": "bac9c609",
   "metadata": {},
   "outputs": [],
   "source": [
    "df = pd.read_csv('user_flags.txt',sep='\\t')\n",
    "df1= pd.read_csv('flags_review.txt',sep='\\t')"
   ]
  },
  {
   "cell_type": "code",
   "execution_count": null,
   "id": "4dd6c6b9",
   "metadata": {},
   "outputs": [
    {
     "data": {
      "text/plain": [
       "user_firstname      object\n",
       "user_lastname       object\n",
       "video_id            object\n",
       "flag_id             object\n",
       "reviewed_by_yt        bool\n",
       "reviewed_date       object\n",
       "reviewed_outcome    object\n",
       "dtype: object"
      ]
     },
     "execution_count": 9,
     "metadata": {},
     "output_type": "execute_result"
    }
   ],
   "source": [
    "merged_df=df.merge(df1,on='flag_id')\n"
   ]
  },
  {
   "cell_type": "code",
   "execution_count": 20,
   "id": "0217a676",
   "metadata": {},
   "outputs": [
    {
     "data": {
      "text/html": [
       "<div>\n",
       "<style scoped>\n",
       "    .dataframe tbody tr th:only-of-type {\n",
       "        vertical-align: middle;\n",
       "    }\n",
       "\n",
       "    .dataframe tbody tr th {\n",
       "        vertical-align: top;\n",
       "    }\n",
       "\n",
       "    .dataframe thead th {\n",
       "        text-align: right;\n",
       "    }\n",
       "</style>\n",
       "<table border=\"1\" class=\"dataframe\">\n",
       "  <thead>\n",
       "    <tr style=\"text-align: right;\">\n",
       "      <th></th>\n",
       "      <th>user_full_name</th>\n",
       "      <th>video_id</th>\n",
       "    </tr>\n",
       "  </thead>\n",
       "  <tbody>\n",
       "    <tr>\n",
       "      <th>4</th>\n",
       "      <td>Richard Hasson</td>\n",
       "      <td>3</td>\n",
       "    </tr>\n",
       "  </tbody>\n",
       "</table>\n",
       "</div>"
      ],
      "text/plain": [
       "   user_full_name  video_id\n",
       "4  Richard Hasson         3"
      ]
     },
     "execution_count": 20,
     "metadata": {},
     "output_type": "execute_result"
    }
   ],
   "source": [
    "merged_df = merged_df[merged_df['reviewed_by_yt']==True]\n",
    "merged_df = merged_df[merged_df['reviewed_outcome']=='APPROVED']\n",
    "merged_df['user_full_name']=merged_df['user_firstname'].astype(str)+\" \"+merged_df['user_lastname'].astype(str)\n",
    "results=merged_df.groupby('user_full_name')['video_id'].count().reset_index().sort_values('video_id',ascending=False)\n",
    "results.head(1)"
   ]
  }
 ],
 "metadata": {
  "kernelspec": {
   "display_name": "Python 3",
   "language": "python",
   "name": "python3"
  },
  "language_info": {
   "codemirror_mode": {
    "name": "ipython",
    "version": 3
   },
   "file_extension": ".py",
   "mimetype": "text/x-python",
   "name": "python",
   "nbconvert_exporter": "python",
   "pygments_lexer": "ipython3",
   "version": "3.10.11"
  }
 },
 "nbformat": 4,
 "nbformat_minor": 5
}
