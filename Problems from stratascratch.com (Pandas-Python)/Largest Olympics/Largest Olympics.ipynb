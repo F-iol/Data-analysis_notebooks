{
 "cells": [
  {
   "cell_type": "code",
   "execution_count": 1,
   "id": "e44cfbbb",
   "metadata": {},
   "outputs": [],
   "source": [
    "import pandas as pd"
   ]
  },
  {
   "cell_type": "code",
   "execution_count": 2,
   "id": "3748a4af",
   "metadata": {},
   "outputs": [],
   "source": [
    "df = pd.read_csv('olympics_athletes_events.txt',sep='\\t')"
   ]
  },
  {
   "cell_type": "code",
   "execution_count": 24,
   "id": "84648b31",
   "metadata": {},
   "outputs": [
    {
     "data": {
      "text/plain": [
       "games                 1924 Summer\n",
       "Number of Athletes            118\n",
       "Name: 3, dtype: object"
      ]
     },
     "execution_count": 24,
     "metadata": {},
     "output_type": "execute_result"
    }
   ],
   "source": [
    "result=df.groupby('games')['name'].nunique().reset_index().rename(columns={'name':'Number of Athletes'}).sort_values('Number of Athletes',ascending=False)\n",
    "result.iloc[0]"
   ]
  }
 ],
 "metadata": {
  "kernelspec": {
   "display_name": "Python 3",
   "language": "python",
   "name": "python3"
  },
  "language_info": {
   "codemirror_mode": {
    "name": "ipython",
    "version": 3
   },
   "file_extension": ".py",
   "mimetype": "text/x-python",
   "name": "python",
   "nbconvert_exporter": "python",
   "pygments_lexer": "ipython3",
   "version": "3.10.11"
  }
 },
 "nbformat": 4,
 "nbformat_minor": 5
}
