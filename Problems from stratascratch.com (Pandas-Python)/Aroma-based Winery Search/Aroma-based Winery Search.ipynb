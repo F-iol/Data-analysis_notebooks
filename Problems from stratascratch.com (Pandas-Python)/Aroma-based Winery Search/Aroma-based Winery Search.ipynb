{
 "cells": [
  {
   "cell_type": "code",
   "execution_count": 1,
   "id": "5d3dc5ee",
   "metadata": {},
   "outputs": [],
   "source": [
    "import pandas as pd"
   ]
  },
  {
   "cell_type": "code",
   "execution_count": null,
   "id": "5c49b80a",
   "metadata": {},
   "outputs": [],
   "source": [
    "df = pd.read_csv('winemag_p1.txt',sep='\\t')"
   ]
  },
  {
   "cell_type": "code",
   "execution_count": 61,
   "id": "044dcb39",
   "metadata": {},
   "outputs": [],
   "source": [
    "result=df[df['description'].str.contains(r'\\bplum\\b|\\bcherry\\b|\\bhazelnut\\b|\\brose\\b')]['winery'].reset_index(drop=True)"
   ]
  },
  {
   "cell_type": "code",
   "execution_count": 62,
   "metadata": {},
   "outputs": [
    {
     "data": {
      "text/plain": [
       "0              Boudreaux Cellars\n",
       "1                      Goldeneye\n",
       "2                     Pine Ridge\n",
       "3                         Hopler\n",
       "4                   Bella Piazza\n",
       "5                       Dashwood\n",
       "6               Comtesse Therese\n",
       "7                      Caligiore\n",
       "8                       Sullivan\n",
       "9                    La Mannella\n",
       "10               Niebaum-Coppola\n",
       "11                    Martin Ray\n",
       "12    Bodega Noemaa de Patagonia\n",
       "13                   Il Poggione\n",
       "14                   Geyser Peak\n",
       "15                 C. Donatiello\n",
       "16                        Roagna\n",
       "17                    La Capilla\n",
       "18       Grandes Vinos y Vinedos\n",
       "19               Terra Valentine\n",
       "20           Les Belles Collines\n",
       "21               Mannina Cellars\n",
       "22                       Valiano\n",
       "23                      Camlibag\n",
       "24               Catalina Sounds\n",
       "25              Vinaria din Vale\n",
       "26             Bodegas La Guarda\n",
       "27                 Bodega Norton\n",
       "Name: winery, dtype: object"
      ]
     },
     "execution_count": 62,
     "metadata": {},
     "output_type": "execute_result"
    }
   ],
   "source": [
    "result"
   ]
  }
 ],
 "metadata": {
  "kernelspec": {
   "display_name": "Python 3",
   "language": "python",
   "name": "python3"
  },
  "language_info": {
   "codemirror_mode": {
    "name": "ipython",
    "version": 3
   },
   "file_extension": ".py",
   "mimetype": "text/x-python",
   "name": "python",
   "nbconvert_exporter": "python",
   "pygments_lexer": "ipython3",
   "version": "3.13.3"
  }
 },
 "nbformat": 4,
 "nbformat_minor": 5
}
