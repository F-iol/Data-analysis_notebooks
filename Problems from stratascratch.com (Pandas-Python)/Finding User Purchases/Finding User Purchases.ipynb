{
 "cells": [
  {
   "cell_type": "code",
   "execution_count": 67,
   "id": "63b01c2c",
   "metadata": {},
   "outputs": [],
   "source": [
    "import pandas as pd"
   ]
  },
  {
   "cell_type": "code",
   "execution_count": 68,
   "id": "4197fc69",
   "metadata": {},
   "outputs": [],
   "source": [
    "df = pd.read_csv('amazon_transactions.txt',sep='\\t')\n",
    "df['created_at']=pd.to_datetime(df['created_at']).dt.strftime('%m-%d-%Y')"
   ]
  },
  {
   "cell_type": "code",
   "execution_count": 69,
   "id": "c99ec335",
   "metadata": {},
   "outputs": [],
   "source": [
    "df=df.sort_values(by=['user_id','created_at'],ascending=[True,True])\n",
    "df['time_diff']=df.groupby('user_id')['created_at'].shift()\n",
    "df[\"days\"] = (pd.to_datetime(df[\"created_at\"])- pd.to_datetime(df[\"time_diff\"])).dt.days"
   ]
  },
  {
   "cell_type": "code",
   "execution_count": 70,
   "id": "95bd617d",
   "metadata": {},
   "outputs": [
    {
     "data": {
      "text/plain": [
       "array([100, 103, 105, 109, 110, 111, 112, 114, 117, 120, 122, 128, 129,\n",
       "       130, 131, 133, 141, 143, 150])"
      ]
     },
     "execution_count": 70,
     "metadata": {},
     "output_type": "execute_result"
    }
   ],
   "source": [
    "result=df[df['days']<=7]['user_id'].unique()\n",
    "result.sort()\n",
    "result"
   ]
  },
  {
   "cell_type": "code",
   "execution_count": 72,
   "id": "370d0e16",
   "metadata": {},
   "outputs": [
    {
     "data": {
      "text/html": [
       "<div>\n",
       "<style scoped>\n",
       "    .dataframe tbody tr th:only-of-type {\n",
       "        vertical-align: middle;\n",
       "    }\n",
       "\n",
       "    .dataframe tbody tr th {\n",
       "        vertical-align: top;\n",
       "    }\n",
       "\n",
       "    .dataframe thead th {\n",
       "        text-align: right;\n",
       "    }\n",
       "</style>\n",
       "<table border=\"1\" class=\"dataframe\">\n",
       "  <thead>\n",
       "    <tr style=\"text-align: right;\">\n",
       "      <th></th>\n",
       "      <th>id</th>\n",
       "      <th>user_id</th>\n",
       "      <th>item</th>\n",
       "      <th>created_at</th>\n",
       "      <th>revenue</th>\n",
       "      <th>time_diff</th>\n",
       "      <th>days</th>\n",
       "    </tr>\n",
       "  </thead>\n",
       "  <tbody>\n",
       "    <tr>\n",
       "      <th>39</th>\n",
       "      <td>40</td>\n",
       "      <td>109</td>\n",
       "      <td>bread</td>\n",
       "      <td>03-02-2020</td>\n",
       "      <td>362</td>\n",
       "      <td>NaN</td>\n",
       "      <td>NaN</td>\n",
       "    </tr>\n",
       "    <tr>\n",
       "      <th>0</th>\n",
       "      <td>1</td>\n",
       "      <td>109</td>\n",
       "      <td>milk</td>\n",
       "      <td>03-03-2020</td>\n",
       "      <td>123</td>\n",
       "      <td>03-02-2020</td>\n",
       "      <td>1.0</td>\n",
       "    </tr>\n",
       "    <tr>\n",
       "      <th>25</th>\n",
       "      <td>26</td>\n",
       "      <td>109</td>\n",
       "      <td>bread</td>\n",
       "      <td>03-22-2020</td>\n",
       "      <td>432</td>\n",
       "      <td>03-03-2020</td>\n",
       "      <td>19.0</td>\n",
       "    </tr>\n",
       "  </tbody>\n",
       "</table>\n",
       "</div>"
      ],
      "text/plain": [
       "    id  user_id   item  created_at  revenue   time_diff  days\n",
       "39  40      109  bread  03-02-2020      362         NaN   NaN\n",
       "0    1      109   milk  03-03-2020      123  03-02-2020   1.0\n",
       "25  26      109  bread  03-22-2020      432  03-03-2020  19.0"
      ]
     },
     "execution_count": 72,
     "metadata": {},
     "output_type": "execute_result"
    }
   ],
   "source": [
    "df.loc[df['user_id']==109]"
   ]
  }
 ],
 "metadata": {
  "kernelspec": {
   "display_name": "Python 3",
   "language": "python",
   "name": "python3"
  },
  "language_info": {
   "codemirror_mode": {
    "name": "ipython",
    "version": 3
   },
   "file_extension": ".py",
   "mimetype": "text/x-python",
   "name": "python",
   "nbconvert_exporter": "python",
   "pygments_lexer": "ipython3",
   "version": "3.13.3"
  }
 },
 "nbformat": 4,
 "nbformat_minor": 5
}
