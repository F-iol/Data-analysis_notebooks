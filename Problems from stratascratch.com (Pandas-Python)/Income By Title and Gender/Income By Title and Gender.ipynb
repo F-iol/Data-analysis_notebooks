{
 "cells": [
  {
   "cell_type": "code",
   "execution_count": 361,
   "id": "25264b29",
   "metadata": {},
   "outputs": [],
   "source": [
    "import pandas as pd"
   ]
  },
  {
   "cell_type": "code",
   "execution_count": 362,
   "id": "918e5c56",
   "metadata": {},
   "outputs": [],
   "source": [
    "employee = pd.read_csv('sf_employee.txt',sep='\\t')\n",
    "bonus = pd.read_csv('sf_bonus.txt',sep='\\t')"
   ]
  },
  {
   "cell_type": "code",
   "execution_count": 363,
   "id": "aa05e789",
   "metadata": {},
   "outputs": [],
   "source": [
    "merged = employee.merge(bonus,how='left',left_on='id',right_on='worker_ref_id')\n",
    "add_bonus=merged.groupby('id')['bonus'].sum().reset_index()\n"
   ]
  },
  {
   "cell_type": "code",
   "execution_count": 364,
   "id": "1f3f5bb6",
   "metadata": {},
   "outputs": [],
   "source": [
    "merged=merged.merge(add_bonus,on='id')"
   ]
  },
  {
   "cell_type": "code",
   "execution_count": 365,
   "id": "52ae3278",
   "metadata": {},
   "outputs": [],
   "source": [
    "merged=merged.drop_duplicates(subset=merged.columns.difference(['bonus_x','bonus_y']))\n",
    "merged=merged.dropna(subset=['bonus_x'])"
   ]
  },
  {
   "cell_type": "code",
   "execution_count": 366,
   "id": "67ed4dfa",
   "metadata": {},
   "outputs": [],
   "source": [
    "merged['salary']=merged['salary']+merged['bonus_y']\n"
   ]
  },
  {
   "cell_type": "code",
   "execution_count": 367,
   "id": "cbb5a392",
   "metadata": {},
   "outputs": [
    {
     "data": {
      "text/html": [
       "<div>\n",
       "<style scoped>\n",
       "    .dataframe tbody tr th:only-of-type {\n",
       "        vertical-align: middle;\n",
       "    }\n",
       "\n",
       "    .dataframe tbody tr th {\n",
       "        vertical-align: top;\n",
       "    }\n",
       "\n",
       "    .dataframe thead th {\n",
       "        text-align: right;\n",
       "    }\n",
       "</style>\n",
       "<table border=\"1\" class=\"dataframe\">\n",
       "  <thead>\n",
       "    <tr style=\"text-align: right;\">\n",
       "      <th></th>\n",
       "      <th>employee_title</th>\n",
       "      <th>sex</th>\n",
       "      <th>average salary</th>\n",
       "    </tr>\n",
       "  </thead>\n",
       "  <tbody>\n",
       "    <tr>\n",
       "      <th>0</th>\n",
       "      <td>Auditor</td>\n",
       "      <td>M</td>\n",
       "      <td>2200.0</td>\n",
       "    </tr>\n",
       "    <tr>\n",
       "      <th>1</th>\n",
       "      <td>Manager</td>\n",
       "      <td>F</td>\n",
       "      <td>209500.0</td>\n",
       "    </tr>\n",
       "    <tr>\n",
       "      <th>2</th>\n",
       "      <td>Sales</td>\n",
       "      <td>M</td>\n",
       "      <td>4600.0</td>\n",
       "    </tr>\n",
       "    <tr>\n",
       "      <th>3</th>\n",
       "      <td>Senior Sales</td>\n",
       "      <td>M</td>\n",
       "      <td>5350.0</td>\n",
       "    </tr>\n",
       "  </tbody>\n",
       "</table>\n",
       "</div>"
      ],
      "text/plain": [
       "  employee_title sex  average salary\n",
       "0        Auditor   M          2200.0\n",
       "1        Manager   F        209500.0\n",
       "2          Sales   M          4600.0\n",
       "3   Senior Sales   M          5350.0"
      ]
     },
     "execution_count": 367,
     "metadata": {},
     "output_type": "execute_result"
    }
   ],
   "source": [
    "results=merged.groupby(['employee_title','sex'])['salary'].mean().reset_index().rename(columns={'salary':'average salary'})\n",
    "results"
   ]
  }
 ],
 "metadata": {
  "kernelspec": {
   "display_name": "Python 3",
   "language": "python",
   "name": "python3"
  },
  "language_info": {
   "codemirror_mode": {
    "name": "ipython",
    "version": 3
   },
   "file_extension": ".py",
   "mimetype": "text/x-python",
   "name": "python",
   "nbconvert_exporter": "python",
   "pygments_lexer": "ipython3",
   "version": "3.10.11"
  }
 },
 "nbformat": 4,
 "nbformat_minor": 5
}
