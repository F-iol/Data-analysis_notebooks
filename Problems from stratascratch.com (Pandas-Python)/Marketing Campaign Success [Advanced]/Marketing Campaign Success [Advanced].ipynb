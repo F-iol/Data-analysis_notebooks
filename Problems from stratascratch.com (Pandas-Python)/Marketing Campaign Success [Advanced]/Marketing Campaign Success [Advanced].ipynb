{
 "cells": [
  {
   "cell_type": "code",
   "execution_count": 78,
   "id": "825e6e28",
   "metadata": {},
   "outputs": [],
   "source": [
    "import pandas as pd\n",
    "import numpy as np"
   ]
  },
  {
   "cell_type": "code",
   "execution_count": 79,
   "id": "bc734034",
   "metadata": {},
   "outputs": [],
   "source": [
    "df = pd.read_csv('marketing_campaign.txt',sep='\\t')"
   ]
  },
  {
   "cell_type": "code",
   "execution_count": 80,
   "id": "8ecc1e4c",
   "metadata": {},
   "outputs": [],
   "source": [
    "campaign_users=df.groupby('user_id')[['created_at','product_id']].nunique().reset_index()\n",
    "campaign_users=campaign_users[(campaign_users['created_at']>1) & (campaign_users['product_id']>1)]\n",
    "df['user_product'] = df['user_id'].map(str) + \"_\" + df['product_id'].map(str)"
   ]
  },
  {
   "cell_type": "code",
   "execution_count": 85,
   "id": "677a7a13",
   "metadata": {},
   "outputs": [
    {
     "data": {
      "text/plain": [
       "23"
      ]
     },
     "execution_count": 85,
     "metadata": {},
     "output_type": "execute_result"
    }
   ],
   "source": [
    "df['first_order'] = df.groupby('user_id')['created_at'].transform('min')\n",
    "first_order=df[df['created_at']==df['first_order']]\n",
    "\n",
    "result = df[(df['user_id'].isin(campaign_users['user_id'])) & (~df['user_product'].isin(first_order['user_product']))]['user_id'].nunique()\n",
    "result"
   ]
  }
 ],
 "metadata": {
  "kernelspec": {
   "display_name": "Python 3",
   "language": "python",
   "name": "python3"
  },
  "language_info": {
   "codemirror_mode": {
    "name": "ipython",
    "version": 3
   },
   "file_extension": ".py",
   "mimetype": "text/x-python",
   "name": "python",
   "nbconvert_exporter": "python",
   "pygments_lexer": "ipython3",
   "version": "3.13.3"
  }
 },
 "nbformat": 4,
 "nbformat_minor": 5
}
