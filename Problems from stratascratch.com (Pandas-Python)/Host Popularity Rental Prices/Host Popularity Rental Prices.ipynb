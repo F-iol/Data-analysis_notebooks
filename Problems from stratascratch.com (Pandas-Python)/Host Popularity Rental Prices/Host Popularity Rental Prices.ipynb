{
 "cells": [
  {
   "cell_type": "code",
   "execution_count": 4,
   "id": "a9ff90b0",
   "metadata": {},
   "outputs": [],
   "source": [
    "import pandas as pd\n",
    "import numpy as np"
   ]
  },
  {
   "cell_type": "code",
   "execution_count": 2,
   "id": "de919981",
   "metadata": {},
   "outputs": [],
   "source": [
    "df = pd.read_csv('airbnb_host_searches.txt',sep='\\t')"
   ]
  },
  {
   "cell_type": "code",
   "execution_count": 9,
   "id": "a09c64c6",
   "metadata": {},
   "outputs": [],
   "source": [
    "df['Popularity']=np.where(df['number_of_reviews']==0,'New',\n",
    "                          np.where(df['number_of_reviews'].between(1,5),'Rising',\n",
    "                          np.where(df['number_of_reviews'].between(6,15),'Trending Up',\n",
    "                          np.where(df['number_of_reviews'].between(16,40),'Popular',\n",
    "                          np.where(df['number_of_reviews']>40,'Hot','')))))"
   ]
  },
  {
   "cell_type": "code",
   "execution_count": 26,
   "metadata": {},
   "outputs": [],
   "source": [
    "df['min']=df.groupby('Popularity')['price'].transform('min')\n",
    "df['mean']=df.groupby('Popularity')['price'].transform('mean')\n",
    "df['max']=df.groupby('Popularity')['price'].transform('max')"
   ]
  },
  {
   "cell_type": "code",
   "execution_count": 32,
   "id": "e6317995",
   "metadata": {},
   "outputs": [
    {
     "data": {
      "text/html": [
       "<div>\n",
       "<style scoped>\n",
       "    .dataframe tbody tr th:only-of-type {\n",
       "        vertical-align: middle;\n",
       "    }\n",
       "\n",
       "    .dataframe tbody tr th {\n",
       "        vertical-align: top;\n",
       "    }\n",
       "\n",
       "    .dataframe thead th {\n",
       "        text-align: right;\n",
       "    }\n",
       "</style>\n",
       "<table border=\"1\" class=\"dataframe\">\n",
       "  <thead>\n",
       "    <tr style=\"text-align: right;\">\n",
       "      <th></th>\n",
       "      <th>Popularity</th>\n",
       "      <th>min</th>\n",
       "      <th>mean</th>\n",
       "      <th>max</th>\n",
       "    </tr>\n",
       "  </thead>\n",
       "  <tbody>\n",
       "    <tr>\n",
       "      <th>13</th>\n",
       "      <td>Popular</td>\n",
       "      <td>270.81</td>\n",
       "      <td>472.815000</td>\n",
       "      <td>667.83</td>\n",
       "    </tr>\n",
       "    <tr>\n",
       "      <th>3</th>\n",
       "      <td>New</td>\n",
       "      <td>313.55</td>\n",
       "      <td>516.671622</td>\n",
       "      <td>741.76</td>\n",
       "    </tr>\n",
       "    <tr>\n",
       "      <th>11</th>\n",
       "      <td>Hot</td>\n",
       "      <td>340.12</td>\n",
       "      <td>467.467391</td>\n",
       "      <td>633.51</td>\n",
       "    </tr>\n",
       "    <tr>\n",
       "      <th>0</th>\n",
       "      <td>Rising</td>\n",
       "      <td>355.53</td>\n",
       "      <td>506.646905</td>\n",
       "      <td>717.01</td>\n",
       "    </tr>\n",
       "    <tr>\n",
       "      <th>6</th>\n",
       "      <td>Trending Up</td>\n",
       "      <td>361.09</td>\n",
       "      <td>476.277179</td>\n",
       "      <td>685.65</td>\n",
       "    </tr>\n",
       "  </tbody>\n",
       "</table>\n",
       "</div>"
      ],
      "text/plain": [
       "     Popularity     min        mean     max\n",
       "13      Popular  270.81  472.815000  667.83\n",
       "3           New  313.55  516.671622  741.76\n",
       "11          Hot  340.12  467.467391  633.51\n",
       "0        Rising  355.53  506.646905  717.01\n",
       "6   Trending Up  361.09  476.277179  685.65"
      ]
     },
     "execution_count": 32,
     "metadata": {},
     "output_type": "execute_result"
    }
   ],
   "source": [
    "results = df[['Popularity','min','mean','max']].drop_duplicates().sort_values('min')\n",
    "results"
   ]
  },
  {
   "cell_type": "code",
   "execution_count": null,
   "id": "6fbad810",
   "metadata": {},
   "outputs": [],
   "source": []
  },
  {
   "cell_type": "code",
   "execution_count": null,
   "metadata": {},
   "outputs": [],
   "source": []
  }
 ],
 "metadata": {
  "kernelspec": {
   "display_name": "Python 3",
   "language": "python",
   "name": "python3"
  },
  "language_info": {
   "codemirror_mode": {
    "name": "ipython",
    "version": 3
   },
   "file_extension": ".py",
   "mimetype": "text/x-python",
   "name": "python",
   "nbconvert_exporter": "python",
   "pygments_lexer": "ipython3",
   "version": "3.13.3"
  }
 },
 "nbformat": 4,
 "nbformat_minor": 5
}
