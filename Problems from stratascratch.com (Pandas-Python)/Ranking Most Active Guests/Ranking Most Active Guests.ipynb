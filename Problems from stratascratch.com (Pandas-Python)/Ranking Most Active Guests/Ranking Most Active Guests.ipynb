{
 "cells": [
  {
   "cell_type": "code",
   "execution_count": 13,
   "id": "65d26944",
   "metadata": {},
   "outputs": [],
   "source": [
    "import pandas as pd"
   ]
  },
  {
   "cell_type": "code",
   "execution_count": 14,
   "metadata": {},
   "outputs": [],
   "source": [
    "df = pd.read_csv('airbnb_contacts.txt',sep='\\t')"
   ]
  },
  {
   "cell_type": "code",
   "execution_count": 15,
   "id": "f4d19118",
   "metadata": {},
   "outputs": [],
   "source": [
    "df['mess_sum']=df.groupby(['id_guest'])['n_messages'].transform('sum')"
   ]
  },
  {
   "cell_type": "code",
   "execution_count": 16,
   "id": "8fe3b089",
   "metadata": {},
   "outputs": [],
   "source": [
    "df['rank']=df['mess_sum'].rank(method='dense',ascending=False)"
   ]
  },
  {
   "cell_type": "code",
   "execution_count": 17,
   "id": "83bea987",
   "metadata": {},
   "outputs": [],
   "source": [
    "df=df[['id_guest','mess_sum','rank']].sort_values('rank')"
   ]
  },
  {
   "cell_type": "code",
   "execution_count": 18,
   "metadata": {},
   "outputs": [
    {
     "data": {
      "text/html": [
       "<div>\n",
       "<style scoped>\n",
       "    .dataframe tbody tr th:only-of-type {\n",
       "        vertical-align: middle;\n",
       "    }\n",
       "\n",
       "    .dataframe tbody tr th {\n",
       "        vertical-align: top;\n",
       "    }\n",
       "\n",
       "    .dataframe thead th {\n",
       "        text-align: right;\n",
       "    }\n",
       "</style>\n",
       "<table border=\"1\" class=\"dataframe\">\n",
       "  <thead>\n",
       "    <tr style=\"text-align: right;\">\n",
       "      <th></th>\n",
       "      <th>id_guest</th>\n",
       "      <th>mess_sum</th>\n",
       "      <th>rank</th>\n",
       "    </tr>\n",
       "  </thead>\n",
       "  <tbody>\n",
       "    <tr>\n",
       "      <th>70</th>\n",
       "      <td>62d09c95-c3d2-44e6-9081-a3485618227d</td>\n",
       "      <td>20</td>\n",
       "      <td>1.0</td>\n",
       "    </tr>\n",
       "    <tr>\n",
       "      <th>96</th>\n",
       "      <td>882f3764-05cc-436a-b23b-93fea22ea847</td>\n",
       "      <td>20</td>\n",
       "      <td>1.0</td>\n",
       "    </tr>\n",
       "    <tr>\n",
       "      <th>5</th>\n",
       "      <td>b8831610-31f2-4c58-8ada-63b3601ca476</td>\n",
       "      <td>17</td>\n",
       "      <td>2.0</td>\n",
       "    </tr>\n",
       "    <tr>\n",
       "      <th>33</th>\n",
       "      <td>91c2a883-04e3-4bbb-a7bb-620531318ab1</td>\n",
       "      <td>17</td>\n",
       "      <td>2.0</td>\n",
       "    </tr>\n",
       "    <tr>\n",
       "      <th>26</th>\n",
       "      <td>6133fb99-2391-4d4b-a077-bae40581f925</td>\n",
       "      <td>16</td>\n",
       "      <td>3.0</td>\n",
       "    </tr>\n",
       "    <tr>\n",
       "      <th>...</th>\n",
       "      <td>...</td>\n",
       "      <td>...</td>\n",
       "      <td>...</td>\n",
       "    </tr>\n",
       "    <tr>\n",
       "      <th>66</th>\n",
       "      <td>6cb23070-821b-467d-b4d0-af04645a0703</td>\n",
       "      <td>2</td>\n",
       "      <td>15.0</td>\n",
       "    </tr>\n",
       "    <tr>\n",
       "      <th>99</th>\n",
       "      <td>37a63847-b09a-4f32-81a5-97cfb8e84c6d</td>\n",
       "      <td>2</td>\n",
       "      <td>15.0</td>\n",
       "    </tr>\n",
       "    <tr>\n",
       "      <th>93</th>\n",
       "      <td>18d343e3-0ef0-4bb7-8cd9-b83d3fbbb82f</td>\n",
       "      <td>2</td>\n",
       "      <td>15.0</td>\n",
       "    </tr>\n",
       "    <tr>\n",
       "      <th>24</th>\n",
       "      <td>ea445eea-3fac-4edd-b1d6-569f57f6abe4</td>\n",
       "      <td>1</td>\n",
       "      <td>16.0</td>\n",
       "    </tr>\n",
       "    <tr>\n",
       "      <th>92</th>\n",
       "      <td>b11cd744-101d-409b-9a55-7e151f2e79d5</td>\n",
       "      <td>1</td>\n",
       "      <td>16.0</td>\n",
       "    </tr>\n",
       "  </tbody>\n",
       "</table>\n",
       "<p>96 rows × 3 columns</p>\n",
       "</div>"
      ],
      "text/plain": [
       "                                id_guest  mess_sum  rank\n",
       "70  62d09c95-c3d2-44e6-9081-a3485618227d        20   1.0\n",
       "96  882f3764-05cc-436a-b23b-93fea22ea847        20   1.0\n",
       "5   b8831610-31f2-4c58-8ada-63b3601ca476        17   2.0\n",
       "33  91c2a883-04e3-4bbb-a7bb-620531318ab1        17   2.0\n",
       "26  6133fb99-2391-4d4b-a077-bae40581f925        16   3.0\n",
       "..                                   ...       ...   ...\n",
       "66  6cb23070-821b-467d-b4d0-af04645a0703         2  15.0\n",
       "99  37a63847-b09a-4f32-81a5-97cfb8e84c6d         2  15.0\n",
       "93  18d343e3-0ef0-4bb7-8cd9-b83d3fbbb82f         2  15.0\n",
       "24  ea445eea-3fac-4edd-b1d6-569f57f6abe4         1  16.0\n",
       "92  b11cd744-101d-409b-9a55-7e151f2e79d5         1  16.0\n",
       "\n",
       "[96 rows x 3 columns]"
      ]
     },
     "execution_count": 18,
     "metadata": {},
     "output_type": "execute_result"
    }
   ],
   "source": [
    "df=df.drop_duplicates()\n",
    "df"
   ]
  },
  {
   "cell_type": "code",
   "execution_count": null,
   "id": "ff3589b0",
   "metadata": {},
   "outputs": [],
   "source": []
  }
 ],
 "metadata": {
  "kernelspec": {
   "display_name": "Python 3",
   "language": "python",
   "name": "python3"
  },
  "language_info": {
   "codemirror_mode": {
    "name": "ipython",
    "version": 3
   },
   "file_extension": ".py",
   "mimetype": "text/x-python",
   "name": "python",
   "nbconvert_exporter": "python",
   "pygments_lexer": "ipython3",
   "version": "3.10.11"
  }
 },
 "nbformat": 4,
 "nbformat_minor": 5
}
