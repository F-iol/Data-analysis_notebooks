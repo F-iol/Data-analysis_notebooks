{
 "cells": [
  {
   "cell_type": "code",
   "execution_count": 121,
   "id": "4a427fed",
   "metadata": {},
   "outputs": [],
   "source": [
    "import pandas as pd"
   ]
  },
  {
   "cell_type": "code",
   "execution_count": 122,
   "id": "c3e8a509",
   "metadata": {},
   "outputs": [],
   "source": [
    "songs = pd.read_csv('billboard_top_100_year_end.txt',sep='\\t')"
   ]
  },
  {
   "cell_type": "code",
   "execution_count": 123,
   "id": "d64697e6",
   "metadata": {},
   "outputs": [],
   "source": [
    "songs_2010=songs[songs['year']==2010]"
   ]
  },
  {
   "cell_type": "code",
   "execution_count": 124,
   "id": "300a67de",
   "metadata": {},
   "outputs": [],
   "source": [
    "songs_2010=songs_2010[(songs_2010['year_rank']>=1) & (songs_2010['year_rank']<=10)]\n",
    "results=songs_2010[['year_rank','group_name','song_name']].drop_duplicates()"
   ]
  },
  {
   "cell_type": "code",
   "execution_count": 125,
   "id": "0f952ca5",
   "metadata": {},
   "outputs": [
    {
     "data": {
      "text/html": [
       "<div>\n",
       "<style scoped>\n",
       "    .dataframe tbody tr th:only-of-type {\n",
       "        vertical-align: middle;\n",
       "    }\n",
       "\n",
       "    .dataframe tbody tr th {\n",
       "        vertical-align: top;\n",
       "    }\n",
       "\n",
       "    .dataframe thead th {\n",
       "        text-align: right;\n",
       "    }\n",
       "</style>\n",
       "<table border=\"1\" class=\"dataframe\">\n",
       "  <thead>\n",
       "    <tr style=\"text-align: right;\">\n",
       "      <th></th>\n",
       "      <th>year_rank</th>\n",
       "      <th>group_name</th>\n",
       "      <th>song_name</th>\n",
       "    </tr>\n",
       "  </thead>\n",
       "  <tbody>\n",
       "    <tr>\n",
       "      <th>5861</th>\n",
       "      <td>1</td>\n",
       "      <td>Ke$ha</td>\n",
       "      <td>TiK ToK</td>\n",
       "    </tr>\n",
       "    <tr>\n",
       "      <th>5862</th>\n",
       "      <td>2</td>\n",
       "      <td>Lady Antebellum</td>\n",
       "      <td>Need You Now</td>\n",
       "    </tr>\n",
       "    <tr>\n",
       "      <th>5863</th>\n",
       "      <td>3</td>\n",
       "      <td>Train</td>\n",
       "      <td>Hey, Soul Sister</td>\n",
       "    </tr>\n",
       "    <tr>\n",
       "      <th>5864</th>\n",
       "      <td>4</td>\n",
       "      <td>Katy Perry feat. Snoop Dogg</td>\n",
       "      <td>California Gurls</td>\n",
       "    </tr>\n",
       "    <tr>\n",
       "      <th>5866</th>\n",
       "      <td>5</td>\n",
       "      <td>Usher feat. will.i.am</td>\n",
       "      <td>OMG</td>\n",
       "    </tr>\n",
       "    <tr>\n",
       "      <th>5868</th>\n",
       "      <td>6</td>\n",
       "      <td>B.o.B feat. Hayley Williams</td>\n",
       "      <td>Airplanes</td>\n",
       "    </tr>\n",
       "    <tr>\n",
       "      <th>5870</th>\n",
       "      <td>7</td>\n",
       "      <td>Eminem feat. Rihanna</td>\n",
       "      <td>Love The Way You Lie</td>\n",
       "    </tr>\n",
       "    <tr>\n",
       "      <th>5872</th>\n",
       "      <td>8</td>\n",
       "      <td>Lady Gaga</td>\n",
       "      <td>Bad Romance</td>\n",
       "    </tr>\n",
       "    <tr>\n",
       "      <th>5873</th>\n",
       "      <td>9</td>\n",
       "      <td>Taio Cruz</td>\n",
       "      <td>Dynamite</td>\n",
       "    </tr>\n",
       "    <tr>\n",
       "      <th>5874</th>\n",
       "      <td>10</td>\n",
       "      <td>Taio Cruz feat. Ludacris</td>\n",
       "      <td>Break Your Heart</td>\n",
       "    </tr>\n",
       "  </tbody>\n",
       "</table>\n",
       "</div>"
      ],
      "text/plain": [
       "      year_rank                   group_name             song_name\n",
       "5861          1                        Ke$ha               TiK ToK\n",
       "5862          2              Lady Antebellum          Need You Now\n",
       "5863          3                        Train      Hey, Soul Sister\n",
       "5864          4  Katy Perry feat. Snoop Dogg      California Gurls\n",
       "5866          5        Usher feat. will.i.am                   OMG\n",
       "5868          6  B.o.B feat. Hayley Williams             Airplanes\n",
       "5870          7         Eminem feat. Rihanna  Love The Way You Lie\n",
       "5872          8                    Lady Gaga           Bad Romance\n",
       "5873          9                    Taio Cruz              Dynamite\n",
       "5874         10     Taio Cruz feat. Ludacris      Break Your Heart"
      ]
     },
     "execution_count": 125,
     "metadata": {},
     "output_type": "execute_result"
    }
   ],
   "source": [
    "results"
   ]
  }
 ],
 "metadata": {
  "kernelspec": {
   "display_name": "Python 3",
   "language": "python",
   "name": "python3"
  },
  "language_info": {
   "codemirror_mode": {
    "name": "ipython",
    "version": 3
   },
   "file_extension": ".py",
   "mimetype": "text/x-python",
   "name": "python",
   "nbconvert_exporter": "python",
   "pygments_lexer": "ipython3",
   "version": "3.10.11"
  }
 },
 "nbformat": 4,
 "nbformat_minor": 5
}
