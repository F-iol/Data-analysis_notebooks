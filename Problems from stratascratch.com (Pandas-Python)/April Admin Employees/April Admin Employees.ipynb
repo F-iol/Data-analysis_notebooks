{
 "cells": [
  {
   "cell_type": "code",
   "execution_count": 134,
   "id": "2d47c378",
   "metadata": {},
   "outputs": [],
   "source": [
    "import pandas as pd"
   ]
  },
  {
   "cell_type": "code",
   "execution_count": 135,
   "id": "f5e9e8b0",
   "metadata": {},
   "outputs": [],
   "source": [
    "df = pd.read_csv('worker.txt',sep='\\t')"
   ]
  },
  {
   "cell_type": "code",
   "execution_count": null,
   "id": "e2e4e33a",
   "metadata": {},
   "outputs": [],
   "source": [
    "df['joining_date']=pd.to_datetime(df['joining_date'])\n",
    "df['month']=df['joining_date'].dt.month\n",
    "df=df[df['department']=='Admin']\n",
    "workers=df.loc[df['month']>=4]"
   ]
  },
  {
   "cell_type": "code",
   "execution_count": null,
   "id": "9aebc085",
   "metadata": {},
   "outputs": [
    {
     "data": {
      "text/plain": [
       "4"
      ]
     },
     "execution_count": 147,
     "metadata": {},
     "output_type": "execute_result"
    }
   ],
   "source": [
    "len(workers)"
   ]
  },
  {
   "cell_type": "code",
   "execution_count": null,
   "id": "4caaa1c9",
   "metadata": {},
   "outputs": [],
   "source": []
  }
 ],
 "metadata": {
  "kernelspec": {
   "display_name": "Python 3",
   "language": "python",
   "name": "python3"
  },
  "language_info": {
   "codemirror_mode": {
    "name": "ipython",
    "version": 3
   },
   "file_extension": ".py",
   "mimetype": "text/x-python",
   "name": "python",
   "nbconvert_exporter": "python",
   "pygments_lexer": "ipython3",
   "version": "3.13.3"
  }
 },
 "nbformat": 4,
 "nbformat_minor": 5
}
