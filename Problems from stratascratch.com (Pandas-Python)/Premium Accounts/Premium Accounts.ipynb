{
 "cells": [
  {
   "cell_type": "code",
   "execution_count": 92,
   "id": "685923e4",
   "metadata": {},
   "outputs": [],
   "source": [
    "import pandas as pd\n",
    "import numpy as np"
   ]
  },
  {
   "cell_type": "code",
   "execution_count": 93,
   "id": "d311e7de",
   "metadata": {},
   "outputs": [],
   "source": [
    "df= pd.read_csv('premium_accounts_by_day.txt',sep='\\t')\n",
    "df['entry_date']=pd.to_datetime(df['entry_date'])\n",
    "df['check_date']=df['entry_date']+pd.Timedelta(days=7)"
   ]
  },
  {
   "cell_type": "code",
   "execution_count": 106,
   "id": "4dbc636e",
   "metadata": {},
   "outputs": [
    {
     "data": {
      "text/html": [
       "<div>\n",
       "<style scoped>\n",
       "    .dataframe tbody tr th:only-of-type {\n",
       "        vertical-align: middle;\n",
       "    }\n",
       "\n",
       "    .dataframe tbody tr th {\n",
       "        vertical-align: top;\n",
       "    }\n",
       "\n",
       "    .dataframe thead th {\n",
       "        text-align: right;\n",
       "    }\n",
       "</style>\n",
       "<table border=\"1\" class=\"dataframe\">\n",
       "  <thead>\n",
       "    <tr style=\"text-align: right;\">\n",
       "      <th></th>\n",
       "      <th>date</th>\n",
       "      <th>premium_acconts</th>\n",
       "      <th>premium_account_after_7d</th>\n",
       "    </tr>\n",
       "  </thead>\n",
       "  <tbody>\n",
       "    <tr>\n",
       "      <th>0</th>\n",
       "      <td>2022-02-07</td>\n",
       "      <td>2</td>\n",
       "      <td>2</td>\n",
       "    </tr>\n",
       "    <tr>\n",
       "      <th>1</th>\n",
       "      <td>2022-02-08</td>\n",
       "      <td>2</td>\n",
       "      <td>2</td>\n",
       "    </tr>\n",
       "    <tr>\n",
       "      <th>2</th>\n",
       "      <td>2022-02-09</td>\n",
       "      <td>3</td>\n",
       "      <td>2</td>\n",
       "    </tr>\n",
       "    <tr>\n",
       "      <th>3</th>\n",
       "      <td>2022-02-10</td>\n",
       "      <td>4</td>\n",
       "      <td>3</td>\n",
       "    </tr>\n",
       "    <tr>\n",
       "      <th>4</th>\n",
       "      <td>2022-02-11</td>\n",
       "      <td>2</td>\n",
       "      <td>1</td>\n",
       "    </tr>\n",
       "    <tr>\n",
       "      <th>5</th>\n",
       "      <td>2022-02-12</td>\n",
       "      <td>3</td>\n",
       "      <td>2</td>\n",
       "    </tr>\n",
       "    <tr>\n",
       "      <th>6</th>\n",
       "      <td>2022-02-13</td>\n",
       "      <td>2</td>\n",
       "      <td>1</td>\n",
       "    </tr>\n",
       "  </tbody>\n",
       "</table>\n",
       "</div>"
      ],
      "text/plain": [
       "        date  premium_acconts  premium_account_after_7d\n",
       "0 2022-02-07                2                         2\n",
       "1 2022-02-08                2                         2\n",
       "2 2022-02-09                3                         2\n",
       "3 2022-02-10                4                         3\n",
       "4 2022-02-11                2                         1\n",
       "5 2022-02-12                3                         2\n",
       "6 2022-02-13                2                         1"
      ]
     },
     "execution_count": 106,
     "metadata": {},
     "output_type": "execute_result"
    }
   ],
   "source": [
    "merged_df=df.merge(df,left_on=['account_id','check_date'],right_on=['account_id','entry_date'],suffixes=('_now','_7days_later'))\n",
    "merged_df=merged_df.drop(columns=['check_date_now','check_date_7days_later'])\n",
    "merged_df=merged_df[merged_df['final_price_now']>0]\n",
    "merged_df['final_price_7days_later']=merged_df['final_price_7days_later'].replace(0,np.nan)\n",
    "premium_accounts=merged_df.groupby('entry_date_now')[['final_price_now','final_price_7days_later']].count().reset_index()\n",
    "premium_accounts=premium_accounts.rename(columns={\n",
    "    'entry_date_now':'date',\n",
    "    'final_price_now':'premium_acconts',\n",
    "    'final_price_7days_later':'premium_account_after_7d'\n",
    "}).sort_values('date')\n",
    "\n",
    "premium_accounts\n",
    "\n"
   ]
  },
  {
   "cell_type": "markdown",
   "id": "8592909e",
   "metadata": {},
   "source": []
  }
 ],
 "metadata": {
  "kernelspec": {
   "display_name": "Python 3",
   "language": "python",
   "name": "python3"
  },
  "language_info": {
   "codemirror_mode": {
    "name": "ipython",
    "version": 3
   },
   "file_extension": ".py",
   "mimetype": "text/x-python",
   "name": "python",
   "nbconvert_exporter": "python",
   "pygments_lexer": "ipython3",
   "version": "3.10.11"
  }
 },
 "nbformat": 4,
 "nbformat_minor": 5
}
