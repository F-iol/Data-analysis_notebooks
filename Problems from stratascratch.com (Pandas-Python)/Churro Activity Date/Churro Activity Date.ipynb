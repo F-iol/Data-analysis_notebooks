{
 "cells": [
  {
   "cell_type": "code",
   "execution_count": 80,
   "id": "3083e50f",
   "metadata": {},
   "outputs": [],
   "source": [
    "import pandas as pd"
   ]
  },
  {
   "cell_type": "code",
   "execution_count": 81,
   "metadata": {},
   "outputs": [],
   "source": [
    "df = pd.read_csv('los_angeles_restaurant_health_inspections.txt',sep='\\t')"
   ]
  },
  {
   "cell_type": "code",
   "execution_count": 82,
   "id": "8a1e1142",
   "metadata": {},
   "outputs": [
    {
     "data": {
      "text/html": [
       "<div>\n",
       "<style scoped>\n",
       "    .dataframe tbody tr th:only-of-type {\n",
       "        vertical-align: middle;\n",
       "    }\n",
       "\n",
       "    .dataframe tbody tr th {\n",
       "        vertical-align: top;\n",
       "    }\n",
       "\n",
       "    .dataframe thead th {\n",
       "        text-align: right;\n",
       "    }\n",
       "</style>\n",
       "<table border=\"1\" class=\"dataframe\">\n",
       "  <thead>\n",
       "    <tr style=\"text-align: right;\">\n",
       "      <th></th>\n",
       "      <th>activity_date</th>\n",
       "      <th>pe_description</th>\n",
       "    </tr>\n",
       "  </thead>\n",
       "  <tbody>\n",
       "    <tr>\n",
       "      <th>161</th>\n",
       "      <td>2017-12-29</td>\n",
       "      <td>RESTAURANT (0-30) SEATS LOW RISK</td>\n",
       "    </tr>\n",
       "    <tr>\n",
       "      <th>162</th>\n",
       "      <td>2016-12-01</td>\n",
       "      <td>RESTAURANT (0-30) SEATS LOW RISK</td>\n",
       "    </tr>\n",
       "    <tr>\n",
       "      <th>163</th>\n",
       "      <td>2016-06-16</td>\n",
       "      <td>RESTAURANT (0-30) SEATS LOW RISK</td>\n",
       "    </tr>\n",
       "  </tbody>\n",
       "</table>\n",
       "</div>"
      ],
      "text/plain": [
       "    activity_date                    pe_description\n",
       "161    2017-12-29  RESTAURANT (0-30) SEATS LOW RISK\n",
       "162    2016-12-01  RESTAURANT (0-30) SEATS LOW RISK\n",
       "163    2016-06-16  RESTAURANT (0-30) SEATS LOW RISK"
      ]
     },
     "execution_count": 82,
     "metadata": {},
     "output_type": "execute_result"
    }
   ],
   "source": [
    "filtered_df=df[(df['score']<95)&(df['program_name']=='STREET CHURROS')]\n",
    "filtered_df[['activity_date','pe_description']]\n"
   ]
  }
 ],
 "metadata": {
  "kernelspec": {
   "display_name": "Python 3",
   "language": "python",
   "name": "python3"
  },
  "language_info": {
   "codemirror_mode": {
    "name": "ipython",
    "version": 3
   },
   "file_extension": ".py",
   "mimetype": "text/x-python",
   "name": "python",
   "nbconvert_exporter": "python",
   "pygments_lexer": "ipython3",
   "version": "3.10.11"
  }
 },
 "nbformat": 4,
 "nbformat_minor": 5
}
