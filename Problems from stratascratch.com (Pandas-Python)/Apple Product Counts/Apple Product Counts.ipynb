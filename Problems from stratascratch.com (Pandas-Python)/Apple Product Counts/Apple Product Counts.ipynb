{
 "cells": [
  {
   "cell_type": "code",
   "execution_count": 139,
   "id": "fd3ec262",
   "metadata": {},
   "outputs": [],
   "source": [
    "import pandas as pd"
   ]
  },
  {
   "cell_type": "code",
   "execution_count": 140,
   "id": "97b0989d",
   "metadata": {},
   "outputs": [],
   "source": [
    "events = pd.read_csv('playbook_events.txt',sep='\\t')\n",
    "users=pd.read_csv(\"playbook_users.txt\",sep='\\t')\n",
    "devices=[\"macbook pro\",\"iphone 5s\",\"ipad air\"]"
   ]
  },
  {
   "cell_type": "code",
   "execution_count": 141,
   "id": "e577db32",
   "metadata": {},
   "outputs": [],
   "source": [
    "merged=events.merge(users,how='inner',on='user_id')"
   ]
  },
  {
   "cell_type": "code",
   "execution_count": 142,
   "id": "c064c763",
   "metadata": {},
   "outputs": [],
   "source": [
    "all_users=merged.groupby(['language'])['user_id'].nunique().to_frame('all_users')\n",
    "apple_users=merged[merged['device'].isin(devices)].groupby(['language'])['user_id'].nunique().to_frame('apple_users')"
   ]
  },
  {
   "cell_type": "code",
   "execution_count": 152,
   "id": "3fa12b49",
   "metadata": {},
   "outputs": [
    {
     "data": {
      "text/html": [
       "<div>\n",
       "<style scoped>\n",
       "    .dataframe tbody tr th:only-of-type {\n",
       "        vertical-align: middle;\n",
       "    }\n",
       "\n",
       "    .dataframe tbody tr th {\n",
       "        vertical-align: top;\n",
       "    }\n",
       "\n",
       "    .dataframe thead th {\n",
       "        text-align: right;\n",
       "    }\n",
       "</style>\n",
       "<table border=\"1\" class=\"dataframe\">\n",
       "  <thead>\n",
       "    <tr style=\"text-align: right;\">\n",
       "      <th></th>\n",
       "      <th>all_users</th>\n",
       "      <th>apple_users</th>\n",
       "    </tr>\n",
       "    <tr>\n",
       "      <th>language</th>\n",
       "      <th></th>\n",
       "      <th></th>\n",
       "    </tr>\n",
       "  </thead>\n",
       "  <tbody>\n",
       "    <tr>\n",
       "      <th>english</th>\n",
       "      <td>46</td>\n",
       "      <td>11.0</td>\n",
       "    </tr>\n",
       "    <tr>\n",
       "      <th>spanish</th>\n",
       "      <td>9</td>\n",
       "      <td>3.0</td>\n",
       "    </tr>\n",
       "    <tr>\n",
       "      <th>japanese</th>\n",
       "      <td>6</td>\n",
       "      <td>2.0</td>\n",
       "    </tr>\n",
       "    <tr>\n",
       "      <th>portugese</th>\n",
       "      <td>3</td>\n",
       "      <td>1.0</td>\n",
       "    </tr>\n",
       "    <tr>\n",
       "      <th>chinese</th>\n",
       "      <td>4</td>\n",
       "      <td>1.0</td>\n",
       "    </tr>\n",
       "    <tr>\n",
       "      <th>german</th>\n",
       "      <td>3</td>\n",
       "      <td>1.0</td>\n",
       "    </tr>\n",
       "    <tr>\n",
       "      <th>italian</th>\n",
       "      <td>1</td>\n",
       "      <td>1.0</td>\n",
       "    </tr>\n",
       "    <tr>\n",
       "      <th>arabic</th>\n",
       "      <td>2</td>\n",
       "      <td>0.0</td>\n",
       "    </tr>\n",
       "    <tr>\n",
       "      <th>french</th>\n",
       "      <td>5</td>\n",
       "      <td>0.0</td>\n",
       "    </tr>\n",
       "    <tr>\n",
       "      <th>indian</th>\n",
       "      <td>2</td>\n",
       "      <td>0.0</td>\n",
       "    </tr>\n",
       "    <tr>\n",
       "      <th>russian</th>\n",
       "      <td>5</td>\n",
       "      <td>0.0</td>\n",
       "    </tr>\n",
       "  </tbody>\n",
       "</table>\n",
       "</div>"
      ],
      "text/plain": [
       "           all_users  apple_users\n",
       "language                         \n",
       "english           46         11.0\n",
       "spanish            9          3.0\n",
       "japanese           6          2.0\n",
       "portugese          3          1.0\n",
       "chinese            4          1.0\n",
       "german             3          1.0\n",
       "italian            1          1.0\n",
       "arabic             2          0.0\n",
       "french             5          0.0\n",
       "indian             2          0.0\n",
       "russian            5          0.0"
      ]
     },
     "execution_count": 152,
     "metadata": {},
     "output_type": "execute_result"
    }
   ],
   "source": [
    "results=all_users.merge(apple_users,how='outer',on='language').fillna(0).sort_values('apple_users',ascending=False)\n",
    "results"
   ]
  }
 ],
 "metadata": {
  "kernelspec": {
   "display_name": "Python 3",
   "language": "python",
   "name": "python3"
  },
  "language_info": {
   "codemirror_mode": {
    "name": "ipython",
    "version": 3
   },
   "file_extension": ".py",
   "mimetype": "text/x-python",
   "name": "python",
   "nbconvert_exporter": "python",
   "pygments_lexer": "ipython3",
   "version": "3.13.3"
  }
 },
 "nbformat": 4,
 "nbformat_minor": 5
}
