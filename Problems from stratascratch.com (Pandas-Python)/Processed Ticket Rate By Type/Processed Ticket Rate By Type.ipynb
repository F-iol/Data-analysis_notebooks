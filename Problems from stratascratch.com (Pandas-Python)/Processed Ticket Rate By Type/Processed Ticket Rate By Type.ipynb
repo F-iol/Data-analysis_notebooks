{
 "cells": [
  {
   "cell_type": "code",
   "execution_count": 1,
   "id": "ba8c2372",
   "metadata": {},
   "outputs": [],
   "source": [
    "import pandas as pd"
   ]
  },
  {
   "cell_type": "code",
   "execution_count": 2,
   "id": "ca54d3e5",
   "metadata": {},
   "outputs": [],
   "source": [
    "df = pd.read_csv('facebook_complaints.txt',sep='\\t')"
   ]
  },
  {
   "cell_type": "code",
   "execution_count": 4,
   "id": "00858e12",
   "metadata": {},
   "outputs": [],
   "source": [
    "count = df.groupby('type')['processed'].count()"
   ]
  },
  {
   "cell_type": "code",
   "execution_count": 9,
   "id": "0f76a0b8",
   "metadata": {},
   "outputs": [
    {
     "data": {
      "text/plain": [
       "type\n",
       "0    0.67\n",
       "1    0.67\n",
       "Name: processed, dtype: float64"
      ]
     },
     "execution_count": 9,
     "metadata": {},
     "output_type": "execute_result"
    }
   ],
   "source": [
    "result= (df.groupby('type')['processed'].sum() /count).round(2)\n",
    "result"
   ]
  }
 ],
 "metadata": {
  "kernelspec": {
   "display_name": "Python 3",
   "language": "python",
   "name": "python3"
  },
  "language_info": {
   "codemirror_mode": {
    "name": "ipython",
    "version": 3
   },
   "file_extension": ".py",
   "mimetype": "text/x-python",
   "name": "python",
   "nbconvert_exporter": "python",
   "pygments_lexer": "ipython3",
   "version": "3.10.11"
  }
 },
 "nbformat": 4,
 "nbformat_minor": 5
}
